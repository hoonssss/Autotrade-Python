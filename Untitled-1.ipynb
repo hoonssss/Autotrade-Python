import ccxt
import pandas as pd
import numpy as np
import matplotlib.pyplot as plt

# Initialize the Binance API client
binance = ccxt.binance({
    'enableRateLimit': True,  # Enable rate limiting (optional)
    'rateLimit': 1200,  # Set rate limit (optional)
    'apiKey': '',  # Replace with your Binance API key
    'secret': ''
})

# Define the symbol and date range
symbol = 'BTC/USDT'
start_date = '2023-08-01T00:00:00Z'
end_date = '2023-09-01T00:00:00Z'

# Fetch historical 15-minute candlestick data from Binance
ohlcv = binance.fetch_ohlcv(symbol, timeframe='15m', since=binance.parse8601(start_date), limit=1000)

# Create a DataFrame from the fetched data
df = pd.DataFrame(ohlcv, columns=['timestamp', 'open', 'high', 'low', 'close', 'volume'])

# Convert the timestamp to a readable date format
df['timestamp'] = pd.to_datetime(df['timestamp'], unit='ms')

# Set the timestamp as the DataFrame index
df.set_index('timestamp', inplace=True)

# Calculate MACD and Signal Line
macd_fast_period = 12
macd_slow_period = 26
macd_signal_period = 9
df['ema_fast'] = df['close'].ewm(span=macd_fast_period).mean()
df['ema_slow'] = df['close'].ewm(span=macd_slow_period).mean()
df['MACD'] = df['ema_fast'] - df['ema_slow']
df['Signal_Line'] = df['MACD'].ewm(span=macd_signal_period).mean()

# Calculate RSI
rsi_window = 14
delta = df['close'].diff(1)
gain = delta.where(delta > 0, 0)
loss = -delta.where(delta < 0, 0)
average_gain = gain.rolling(window=rsi_window).mean()
average_loss = loss.rolling(window=rsi_window).mean()
relative_strength = average_gain / average_loss
df['RSI'] = 100 - (100 / (1 + relative_strength))

# Define trading strategy parameters
rsi_threshold_buy = 30
rsi_threshold_sell = 70
desired_return = 0.05

# Initialize portfolio variables
initial_portfolio_value = 100000
portfolio_value = initial_portfolio_value
BTC_holding = initial_portfolio_value / df['close'][0]
in_position = False
buy_price = 0
sell_price = 0

# Initialize lists to track trade information
trades = []

# Initialize MACD cross variables
macd_cross = 0  # 0: No cross, 1: Golden Cross, -1: Dead Cross

# Initialize lists to track buy and sell signals
buy_signals = []
sell_signals = []

# Simulate the trading strategy
for index, row in df.iterrows():
    if macd_cross == 0:
        if (row['MACD'] > 0 and row['RSI'] <= rsi_threshold_buy) or row['RSI'] <= 25:
            macd_cross = 1  # Buy on MACD positive and RSI below or equal to the buy threshold or RSI <= 23
            BTC_holding = portfolio_value / row['close']
            portfolio_value = 0
            in_position = True
            buy_price = row['close']
            buy_signals.append((index, row['close']))
    elif macd_cross == 1:
        if (row['RSI'] >= rsi_threshold_sell) or (row['MACD'] < 0) or ((row['close'] / buy_price - 1) >= desired_return):
            macd_cross = 0  # Sell on RSI above sell threshold, MACD negative, or desired return
            portfolio_value = BTC_holding * row['close']
            BTC_holding = 0
            in_position = False
            sell_price = row['close']
            profit = ((sell_price / buy_price) - 1) * 100
            trades.append({'action': 'Buy', 'price': buy_price, 'sell_price': sell_price, 'profit': profit})
            sell_signals.append((index, row['close']))
    elif macd_cross == -1:
        if (row['MACD'] > 0) or (macd_signal == 1):
            macd_cross = 0  # Avoid buying when MACD is positive during Dead Cross, or on Golden Cross
            portfolio_value = BTC_holding * row['close']
            BTC_holding = 0
            in_position = False
            sell_price = row['close']
            profit = ((sell_price / buy_price) - 1) * 100
            trades.append({'action': 'Buy', 'price': buy_price, 'sell_price': sell_price, 'profit': profit})
            sell_signals.append((index, row['close']))

# Calculate final portfolio value
final_portfolio_value = portfolio_value

# Calculate overall percentage return
overall_return = ((final_portfolio_value / initial_portfolio_value) - 1) * 100

# Print trade information
for trade in trades:
    print(f"Action: {trade['action']}, Buy Price: {trade['price']}, Sell Price: {trade['sell_price']}, Profit: {trade.get('profit', 'N/A')}%")

# Print overall return
print(f"Overall Percentage Return: {overall_return:.2f}%")
